{
 "cells": [
  {
   "cell_type": "markdown",
   "source": [
    "# Import Module\n",
    "Import the class MT5Scraper from the library mt5_scraper\n",
    "Import datetime, because start and end date must be type datetime.datetime\n",
    "Import MetaTrader 5 because timeframe must be type MetaTrader5.TIMEFRAME.XX"
   ],
   "metadata": {
    "collapsed": false
   }
  },
  {
   "cell_type": "code",
   "execution_count": null,
   "outputs": [],
   "source": [
    "from mt5_scraper import MT5Scraper\n",
    "from datetime import datetime\n",
    "import MetaTrader5 as mt5"
   ],
   "metadata": {
    "collapsed": false
   }
  },
  {
   "cell_type": "markdown",
   "source": [
    "# Initialize Class\n",
    "Make an instance of the class\n",
    "\n",
    "In total, the following 3 parameters must be passed:\n",
    "* login: login to your MT5 account\n",
    "* server: server name of the account\n",
    "* password: password to the account"
   ],
   "metadata": {
    "collapsed": false
   }
  },
  {
   "cell_type": "code",
   "execution_count": null,
   "outputs": [],
   "source": [
    "scraper = MT5Scraper(1234, 'SERVERNAME', 'PASSWORD')\n",
    "print(scraper)"
   ],
   "metadata": {
    "collapsed": false
   }
  },
  {
   "cell_type": "markdown",
   "source": [
    "With the method get_symbol_count you get the number of symbols the account has in total."
   ],
   "metadata": {
    "collapsed": false
   }
  },
  {
   "cell_type": "code",
   "execution_count": null,
   "outputs": [],
   "source": [
    "scraper.get_symbol_count()"
   ],
   "metadata": {
    "collapsed": false
   }
  },
  {
   "cell_type": "markdown",
   "source": [
    "With the method get_symbols you get a list of all symbols. Additionally the whole structure is displayed as a tree."
   ],
   "metadata": {
    "collapsed": false
   }
  },
  {
   "cell_type": "code",
   "execution_count": null,
   "outputs": [],
   "source": [
    "all_symbols = scraper.get_symbols()"
   ],
   "metadata": {
    "collapsed": false
   }
  },
  {
   "cell_type": "markdown",
   "source": [
    "It is possible to pass the following parameters to the method get_symbols:\n",
    "* symbol_path: path, to the desired symbols\n",
    "* visualize: should the tree structure be output"
   ],
   "metadata": {
    "collapsed": false
   }
  },
  {
   "cell_type": "code",
   "execution_count": null,
   "outputs": [],
   "source": [
    "stocks_switzerland = scraper.get_symbols('Stocks\\\\Switzerland\\\\Software & IT Services', visualize=True)"
   ],
   "metadata": {
    "collapsed": false
   }
  },
  {
   "cell_type": "code",
   "execution_count": null,
   "outputs": [],
   "source": [
    "data = scraper.get_historical_data(stocks_switzerland,\n",
    "                                   mt5.TIMEFRAME_D1,\n",
    "                                   datetime(2005, 1, 1),\n",
    "                                   datetime(2023, 1, 11),\n",
    "                                   save=True,\n",
    "                                   save_path='stocks_switzerland_D1')"
   ],
   "metadata": {
    "collapsed": false
   }
  },
  {
   "cell_type": "code",
   "execution_count": null,
   "outputs": [],
   "source": [
    "data['TEMN.S']"
   ],
   "metadata": {
    "collapsed": false
   }
  }
 ],
 "metadata": {
  "kernelspec": {
   "display_name": "Python 3",
   "language": "python",
   "name": "python3"
  },
  "language_info": {
   "codemirror_mode": {
    "name": "ipython",
    "version": 2
   },
   "file_extension": ".py",
   "mimetype": "text/x-python",
   "name": "python",
   "nbconvert_exporter": "python",
   "pygments_lexer": "ipython2",
   "version": "2.7.6"
  }
 },
 "nbformat": 4,
 "nbformat_minor": 0
}
