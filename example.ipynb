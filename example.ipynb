{
 "cells": [
  {
   "cell_type": "markdown",
   "source": [
    "# Import Module\n",
    "Import the class MT5Scraper from the library mt5_scraper"
   ],
   "metadata": {
    "collapsed": false
   }
  },
  {
   "cell_type": "code",
   "execution_count": null,
   "outputs": [],
   "source": [
    "from mt5_scraper import MT5Scraper"
   ],
   "metadata": {
    "collapsed": false
   }
  },
  {
   "cell_type": "markdown",
   "source": [
    "# Initialize Class\n",
    "Make an instance of the class\n",
    "\n",
    "In total, the following 3 parameters must be passed:\n",
    "* login: login to your MT5 account\n",
    "* server: server name of the account\n",
    "* password: password to the account"
   ],
   "metadata": {
    "collapsed": false
   }
  },
  {
   "cell_type": "code",
   "execution_count": null,
   "outputs": [],
   "source": [
    "scraper = MT5Scraper(1234, 'SERVERNAME', 'PASSWORD')\n",
    "print(scraper)"
   ],
   "metadata": {
    "collapsed": false
   }
  },
  {
   "cell_type": "markdown",
   "source": [
    "# Get the total number of symbols\n",
    "With the method get_symbol_count you get the number of symbols the account has in total."
   ],
   "metadata": {
    "collapsed": false
   }
  },
  {
   "cell_type": "code",
   "execution_count": null,
   "outputs": [],
   "source": [
    "scraper.get_symbol_count()"
   ],
   "metadata": {
    "collapsed": false
   }
  },
  {
   "cell_type": "markdown",
   "source": [
    "# Get all symbols\n",
    "With the method get_symbols you get a list of all symbols. Additionally the whole structure is displayed as a tree."
   ],
   "metadata": {
    "collapsed": false
   }
  },
  {
   "cell_type": "code",
   "execution_count": null,
   "outputs": [],
   "source": [
    "all_symbols = scraper.get_symbols()"
   ],
   "metadata": {
    "collapsed": false
   }
  },
  {
   "cell_type": "markdown",
   "source": [
    "# Get specific symbols\n",
    "It is possible to pass the following parameters to the method get_symbols:\n",
    "* symbol_path: path, to the desired symbols\n",
    "* visualize: should the tree structure be output"
   ],
   "metadata": {
    "collapsed": false
   }
  },
  {
   "cell_type": "code",
   "execution_count": null,
   "outputs": [],
   "source": [
    "stocks_switzerland = scraper.get_symbols('Stocks/Switzerland/Software & IT Services', visualize=True)"
   ],
   "metadata": {
    "collapsed": false
   }
  },
  {
   "cell_type": "markdown",
   "source": [
    "# Get historical data\n",
    "with the method get_historical_data you can download the historical prices of the desired symbols. The method has the following parameters:\n",
    "* symbol_list: list containing the desired symbols\n",
    "* timeframe: desired timeframe (D1, H1, etc.)\n",
    "* start_date: prices from (Y, M, D, h, m, s)\n",
    "* end_date: prices until (Y, M, D, h, m, s)\n",
    "* save: True if dataframe should be saved else False\n",
    "* save_path: folder Path to save the csv\n",
    "\n",
    "In total there are 21 timeframes to choose: M1, M2, M3, M4, M5, M6, M10, M12, M15, M20, M30, H1, H2, H3, H4, H6, H8, H12, D1, W1, MN1"
   ],
   "metadata": {
    "collapsed": false
   }
  },
  {
   "cell_type": "code",
   "execution_count": null,
   "outputs": [],
   "source": [
    "data = scraper.get_historical_data(stocks_switzerland,\n",
    "                                   'H1',\n",
    "                                   (2022, 1, 1),\n",
    "                                   (2023, 1, 11, 13, 0),\n",
    "                                   save=True,\n",
    "                                   save_path='stocks_switzerland_D1')"
   ],
   "metadata": {
    "collapsed": false
   }
  },
  {
   "cell_type": "code",
   "execution_count": null,
   "outputs": [],
   "source": [
    "data['TEMN.S']"
   ],
   "metadata": {
    "collapsed": false
   }
  }
 ],
 "metadata": {
  "kernelspec": {
   "display_name": "Python 3",
   "language": "python",
   "name": "python3"
  },
  "language_info": {
   "codemirror_mode": {
    "name": "ipython",
    "version": 2
   },
   "file_extension": ".py",
   "mimetype": "text/x-python",
   "name": "python",
   "nbconvert_exporter": "python",
   "pygments_lexer": "ipython2",
   "version": "2.7.6"
  }
 },
 "nbformat": 4,
 "nbformat_minor": 0
}
